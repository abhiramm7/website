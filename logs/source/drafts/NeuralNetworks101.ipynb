{
 "cells": [
  {
   "cell_type": "markdown",
   "id": "5d2cda90-3f06-48d6-9cab-63f2d57cef56",
   "metadata": {
    "slideshow": {
     "slide_type": "slide"
    },
    "tags": [
     "Introduction"
    ]
   },
   "source": [
    "# Neural Networks 101\n",
    "\n",
    "### Agenda\n",
    "1. What is a Neural Network (NN)? Who is CHRS? What is CHRS?\n",
    "2. ⚙️ Math!!\n",
    "3. Building a NN with Numpy #Numpy4Life 🫶🏼\n",
    "4. 💁🏽‍♂️ How do cool kids do NN: pytorch"
   ]
  },
  {
   "cell_type": "markdown",
   "id": "f5dd0881-d083-4d81-b15e-51c91360b7ec",
   "metadata": {
    "slideshow": {
     "slide_type": "slide"
    },
    "tags": [
     "NN"
    ]
   },
   "source": [
    "## What is a neural network?\n",
    "\n",
    "Neural Networks are universal function approximators. Theoritically, a neural network, with infinite depth and breath, can approximate any function. Given a $D = \\{(x_i,y_i) | i=1,2,\\dots,n\\}$, a neural network approximates the function $f$ that $f(x) \\rightarrow y$.\n",
    "\n",
    "<p align=\"center\">\n",
    "  <img src=\"nn_arch.png\" width=\"60%\" height=\"30%\"/>\n",
    "</p>"
   ]
  },
  {
   "cell_type": "markdown",
   "id": "8369fee3-6a0c-44b7-9e0d-8fe64a66b4ed",
   "metadata": {
    "slideshow": {
     "slide_type": "slide"
    },
    "tags": []
   },
   "source": [
    "## Numpy Neural Network"
   ]
  },
  {
   "cell_type": "code",
   "execution_count": 1,
   "id": "9f2f6a47-7c2a-40b8-94c4-37444516ab78",
   "metadata": {
    "slideshow": {
     "slide_type": "subslide"
    },
    "tags": []
   },
   "outputs": [],
   "source": [
    "import numpy as np\n",
    "import matplotlib.pyplot as plt\n",
    "import seaborn as sns\n",
    "sns.set_style(\"whitegrid\")"
   ]
  },
  {
   "cell_type": "code",
   "execution_count": 2,
   "id": "7d8f8790-166d-4800-92cc-fd57c2362c99",
   "metadata": {
    "slideshow": {
     "slide_type": "subslide"
    },
    "tags": []
   },
   "outputs": [],
   "source": [
    "X = (np.linspace(0, 4, 128) * np.pi).reshape(-1, 1)\n",
    "Y = np.sin(X).reshape(-1, 1)"
   ]
  },
  {
   "cell_type": "code",
   "execution_count": 38,
   "id": "5d5c17fa-8a0b-475f-8652-f33680d84004",
   "metadata": {
    "slideshow": {
     "slide_type": "subslide"
    },
    "tags": []
   },
   "outputs": [],
   "source": [
    "w1 = np.random.rand(1, 5)\n",
    "w2 = np.random.rand(5, 1)\n",
    "network_weights = [w1, w2]\n",
    "relu = lambda x: np.maximum(0.0, x)"
   ]
  },
  {
   "cell_type": "code",
   "execution_count": 39,
   "id": "16f329e3-c18b-47d8-9e78-19a769540fa2",
   "metadata": {
    "slideshow": {
     "slide_type": "subslide"
    },
    "tags": []
   },
   "outputs": [],
   "source": [
    "alpha = 0.0001\n",
    "loss_tracker = []\n",
    "interation_indicator = []"
   ]
  },
  {
   "cell_type": "code",
   "execution_count": 40,
   "id": "c97bf3d0-a644-4290-a0ab-e98c99140a57",
   "metadata": {
    "slideshow": {
     "slide_type": "subslide"
    },
    "tags": []
   },
   "outputs": [
    {
     "name": "stdout",
     "output_type": "stream",
     "text": [
      "Itearation 0 for loss: [[12932.20598154]]\n",
      "Itearation 1 for loss: [[327.50103279]]\n",
      "Itearation 2 for loss: [[63.5]]\n",
      "Itearation 3 for loss: [[63.5]]\n",
      "Itearation 4 for loss: [[62.30452382]]\n"
     ]
    }
   ],
   "source": [
    "for iteration in range(0, 5):\n",
    "    # Forward pass\n",
    "    z_1 = np.dot(X, w1)\n",
    "    h_1 = relu(z_1)\n",
    "    y_hat = np.dot(h_1, w2)\n",
    "\n",
    "    # L2 loss\n",
    "    L = np.dot((y_hat-Y).T, (y_hat-Y))\n",
    "    loss_tracker.append(L.flatten())\n",
    "    interation_indicator.append(iteration)\n",
    "    print(f\"Itearation {iteration} for loss: {L}\")\n",
    "\n",
    "    # Backward pass\n",
    "    dl_dy = 2 * (y_hat-Y)\n",
    "    dy_dw2 = h_1\n",
    "    dl_dw2 = np.dot(h_1.T, dl_dy)\n",
    "    dl_dh1 = np.dot(dl_dy, w2.T)\n",
    "    dh1_dz1 = dl_dh1.copy()\n",
    "    dh1_dz1[h_1 < 0.0] = 0.0\n",
    "    dl_dw1 = np.dot(X.T, dh1_dz1)\n",
    "\n",
    "    # Learning Step\n",
    "    w1 = w1 - alpha * dl_dw1\n",
    "    w2 = w2 - alpha * dl_dw2"
   ]
  },
  {
   "cell_type": "code",
   "execution_count": 41,
   "id": "9bd46d85-a322-43ec-a6f1-aa33fa4c0f2c",
   "metadata": {
    "slideshow": {
     "slide_type": "subslide"
    },
    "tags": []
   },
   "outputs": [
    {
     "data": {
      "text/plain": [
       "Text(0, 0.5, 'Loss')"
      ]
     },
     "execution_count": 41,
     "metadata": {},
     "output_type": "execute_result"
    },
    {
     "data": {
      "image/png": "[encoded data removed]",
      "text/plain": [
       "<Figure size 432x288 with 1 Axes>"
      ]
     },
     "metadata": {},
     "output_type": "display_data"
    }
   ],
   "source": [
    "plt.plot(loss_tracker)\n",
    "plt.ylabel(\"Loss\")"
   ]
  },
  {
   "cell_type": "markdown",
   "id": "e16881dc-10de-4f1d-89f8-b0af64dfb196",
   "metadata": {
    "slideshow": {
     "slide_type": "slide"
    },
    "tags": []
   },
   "source": [
    "## pytorch Neural Network"
   ]
  },
  {
   "cell_type": "code",
   "execution_count": 4,
   "id": "e6f05892-dc85-48c3-ae37-cbe6ba6a5992",
   "metadata": {
    "slideshow": {
     "slide_type": "subslide"
    },
    "tags": []
   },
   "outputs": [],
   "source": [
    "import torch"
   ]
  },
  {
   "cell_type": "code",
   "execution_count": 48,
   "id": "7b68b938-62d4-42a3-8768-5a78f8a28bf7",
   "metadata": {
    "slideshow": {
     "slide_type": "subslide"
    },
    "tags": []
   },
   "outputs": [],
   "source": [
    "class singlelayerperceptron(torch.nn.Module):\n",
    "    \n",
    "    def __init__(self):\n",
    "        super(singlelayerperceptron, self).__init__()\n",
    "        self.layer1 = torch.nn.Linear(in_features=1,\n",
    "                                      out_features=5)\n",
    "        self.activation1 = torch.nn.ReLU()\n",
    "        self.layer2 = torch.nn.Linear(in_features=5,\n",
    "                                      out_features=1)\n",
    "    \n",
    "    def forward(self, x):\n",
    "        x = self.layer1(x)\n",
    "        x = self.activation1(x)\n",
    "        x = self.layer2(x)\n",
    "        return x"
   ]
  },
  {
   "cell_type": "code",
   "execution_count": 49,
   "id": "e9ada07c-aebf-4ac2-9b1a-2685a1587ab9",
   "metadata": {
    "slideshow": {
     "slide_type": "subslide"
    },
    "tags": []
   },
   "outputs": [],
   "source": [
    "loss_logger = []\n",
    "neural_nets = singlelayerperceptron()\n",
    "loss = torch.nn.MSELoss(reduction=\"sum\")\n",
    "optimizer = torch.optim.SGD(neural_nets.parameters(), lr=0.001)"
   ]
  },
  {
   "cell_type": "code",
   "execution_count": 50,
   "id": "0e8f9498-5ebe-4397-a0f7-1e7b01012b20",
   "metadata": {
    "slideshow": {
     "slide_type": "subslide"
    },
    "tags": []
   },
   "outputs": [],
   "source": [
    "for iteration in range(0, 5):\n",
    "    x_train = torch.rand(128, 1)\n",
    "    y_train = torch.rand(128, 1)\n",
    "    \n",
    "    optimizer.zero_grad()\n",
    "    \n",
    "    y_predicted = neural_nets(x_train)\n",
    "    loss_value = loss(y_predicted, y_train)\n",
    "    \n",
    "    loss_value.backward()\n",
    "    \n",
    "    optimizer.step()\n",
    "    \n",
    "    loss_logger.append(loss_value.detach().numpy())"
   ]
  },
  {
   "cell_type": "code",
   "execution_count": 51,
   "id": "d36f9e29-0625-4bec-ac14-fca76000af29",
   "metadata": {
    "slideshow": {
     "slide_type": "subslide"
    },
    "tags": []
   },
   "outputs": [
    {
     "data": {
      "text/plain": [
       "[<matplotlib.lines.Line2D at 0x16e3f1130>]"
      ]
     },
     "execution_count": 51,
     "metadata": {},
     "output_type": "execute_result"
    },
    {
     "data": {
      "image/png": "[encoded data removed]",
      "text/plain": [
       "<Figure size 432x288 with 1 Axes>"
      ]
     },
     "metadata": {
      "needs_background": "light"
     },
     "output_type": "display_data"
    }
   ],
   "source": [
    "plt.plot(loss_logger)"
   ]
  }
 ],
 "metadata": {
  "kernelspec": {
   "display_name": "Python 3 (ipykernel)",
   "language": "python",
   "name": "python3"
  },
  "language_info": {
   "codemirror_mode": {
    "name": "ipython",
    "version": 3
   },
   "file_extension": ".py",
   "mimetype": "text/x-python",
   "name": "python",
   "nbconvert_exporter": "python",
   "pygments_lexer": "ipython3",
   "version": "3.9.16"
  }
 },
 "nbformat": 4,
 "nbformat_minor": 5
}
